{
 "cells": [
  {
   "cell_type": "markdown",
   "metadata": {},
   "source": [
    "# Лабораторная работа N_1\n",
    "## Выполниил студент группы БВТ2001 Миллимоно Кларисс Сиа\n",
    "### Заданние N_1\n",
    "описание условие задания\n",
    "1.Создать Jupyter Notebook со следующим наименованием: Lab1_Группа_ФИО\n",
    "2.Создать новую ячейку с помощью кнопки \"+\"\n",
    "3.В созданной ячейке по указанной ниже форме заполните оглавление файла,заменив наименование группы и вписав свое ФИО, после чего создайте еще одну ячейку и напишите следующий код: print(\"Hello, World!\")\n",
    "4.С помощью кнопки \"Run\" запустите выполнение всех ячеек.\n",
    "5.После выполнения у вас должна отформатироваться ячейка с оглавлением и должен выполниться “Hello, World!”"
   ]
  },
  {
   "cell_type": "code",
   "execution_count": 16,
   "metadata": {},
   "outputs": [
    {
     "name": "stdout",
     "output_type": "stream",
     "text": [
      "Hello, World\n"
     ]
    }
   ],
   "source": [
    "print(\"Hello, World\")"
   ]
  },
  {
   "cell_type": "code",
   "execution_count": 17,
   "metadata": {},
   "outputs": [],
   "source": [
    "import random"
   ]
  },
  {
   "cell_type": "markdown",
   "metadata": {},
   "source": [
    "### Заданние N_2\n",
    "описание условие задания\n",
    "Написать генератор случайных матриц(многомерных), который принимает опциональные параметры m, n, min_limit, max_limit, где m и n указывают размер матрицы, а min_lim и max_lim - минимальное и максимальное значение для генерируемого числа . По умолчанию при отсутствии параметров принимать следующие значения:\n",
    "m = 50\n",
    "n = 50\n",
    "min_limit = -250\n",
    "max_limit = 1000 + (номер своего варианта)"
   ]
  },
  {
   "cell_type": "markdown",
   "metadata": {},
   "source": [
    "### Заданние N_3"
   ]
  },
  {
   "cell_type": "code",
   "execution_count": 18,
   "metadata": {},
   "outputs": [],
   "source": [
    "import random"
   ]
  },
  {
   "cell_type": "code",
   "execution_count": 19,
   "metadata": {},
   "outputs": [],
   "source": [
    "#Сортировка выбором\n",
    "def selection_sort(arr):\n",
    "    for i in range(0, len(arr) - 1):\n",
    "        local_min = i\n",
    "        for j in range(i + 1, len(arr)):\n",
    "            if arr[j] < arr[local_min]:\n",
    "                local_min = j\n",
    "        arr[i], arr[local_min] = arr[local_min], arr[i]\n",
    "    return arr"
   ]
  },
  {
   "cell_type": "code",
   "execution_count": 20,
   "metadata": {},
   "outputs": [],
   "source": [
    "#Сортировка вставками\n",
    "def insertion_sort(arr):\n",
    "    for i in range(1, len(arr)):\n",
    "        temp = arr[i]\n",
    "        j = i - 1\n",
    "        while j >= 0 and temp < arr[j]:\n",
    "            arr[j + 1] = arr[j]\n",
    "            j = j - 1\n",
    "        arr[j + 1] = temp\n",
    "    return arr"
   ]
  },
  {
   "cell_type": "code",
   "execution_count": 21,
   "metadata": {},
   "outputs": [],
   "source": [
    "# Сортировка обменом или пузырьком\n",
    "def bubble_sort(arr):\n",
    "    swapped = True\n",
    "    x = -1\n",
    "    while swapped:\n",
    "        swapped = False\n",
    "        x = x + 1\n",
    "        for i in range(1, len(arr) - x):\n",
    "            if arr[i - 1] > arr[i]:\n",
    "                arr[i - 1], arr[i] = arr[i], arr[i - 1]\n",
    "                swapped = True\n",
    "    return arr"
   ]
  },
  {
   "cell_type": "code",
   "execution_count": 22,
   "metadata": {},
   "outputs": [],
   "source": [
    "#Сортировка Шелла\n",
    "def shell_sort(arr):\n",
    "    gap = len(arr) // 2\n",
    "    while gap > 0:\n",
    "\n",
    "        for i in range(gap, len(arr)):\n",
    "            temp = arr[i]\n",
    "            j = i\n",
    "\n",
    "            while j >= gap and arr[j - gap] > temp:\n",
    "                arr[j] = arr[j - gap]\n",
    "                j = j - gap\n",
    "            arr[j] = temp\n",
    "\n",
    "        gap = gap // 2\n",
    "\n",
    "    return arr"
   ]
  },
  {
   "cell_type": "code",
   "execution_count": 23,
   "metadata": {},
   "outputs": [],
   "source": [
    "#Быстрая сортировка\n",
    "def partition(array, begin, end):\n",
    "    pivot = begin\n",
    "    for i in range(begin+1, end+1):\n",
    "        if array[i] <= array[begin]:\n",
    "            pivot += 1\n",
    "            array[i], array[pivot] = array[pivot], array[i]\n",
    "    array[pivot], array[begin] = array[begin], array[pivot]\n",
    "    return pivot\n",
    "\n",
    "\n",
    "def quick_sort(array, begin=0, end=None):\n",
    "    if end is None:\n",
    "        end = len(array) - 1\n",
    "\n",
    "    def _quicksort(array, begin, end):\n",
    "        if begin >= end:\n",
    "            return\n",
    "        pivot = partition(array, begin, end)\n",
    "        _quicksort(array, begin, pivot - 1)\n",
    "        _quicksort(array, pivot + 1, end)\n",
    "\n",
    "    return _quicksort(array, begin, end)"
   ]
  },
  {
   "cell_type": "code",
   "execution_count": 24,
   "metadata": {},
   "outputs": [],
   "source": [
    "#Турнирная сортировка\n",
    "def tournamentSort(arr):\n",
    "    tree = [None] * 2 * (len(arr) + len(arr) % 2)\n",
    "    index = len(tree) - len(arr) - len(arr) % 2\n",
    "\n",
    "    for i, v in enumerate(arr):\n",
    "        tree[index + i] = (i, v)\n",
    "\n",
    "    for j in range(len(arr)):\n",
    "        n = len(arr)\n",
    "        index = len(tree) - len(arr) - len(arr) % 2\n",
    "        while index > -1:\n",
    "            n = (n + 1) // 2\n",
    "            for i in range(n):\n",
    "                i = max(index + i * 2, 1)  # на последней итерация index + i * 2 = 0(sur la Dernière itération de l'index)\n",
    "                if tree[i] is not None and tree[i + 1] is not None:\n",
    "                    if tree[i][1] < tree[i + 1][1]:\n",
    "                        tree[i // 2] = tree[i]\n",
    "                    else:\n",
    "                        tree[i // 2] = tree[i + 1]\n",
    "                else:\n",
    "                    tree[i // 2] = tree[i] if tree[i] is not None else tree[i + 1]\n",
    "            index -= n\n",
    "\n",
    "        index, x = tree[0]\n",
    "        arr[j] = x\n",
    "        tree[len(tree) - len(arr) - len(arr) % 2 + index] = None\n",
    "\n",
    "    for i in range(len(arr) - 1):\n",
    "        if arr[i] > arr[i + 1]:\n",
    "            arr[i], arr[i + 1] = arr[i + 1], arr[i]\n",
    "        else:\n",
    "            break\n",
    "    return arr"
   ]
  },
  {
   "cell_type": "code",
   "execution_count": 25,
   "metadata": {},
   "outputs": [],
   "source": [
    "#Пирамидальная сортировка\n",
    "def heapify(arr, n, i):\n",
    "    largest = i # Инициализировать самый большой как корень (Initialiser le plus grand en tant que racine)\n",
    "    l = 2 * i + 1   # left = 2*i + 1\n",
    "    r = 2 * i + 2   # right = 2*i + 2\n",
    "    if l < n and arr[i] < arr[l]:\n",
    "        largest = l\n",
    "    if r < n and arr[largest] < arr[r]:\n",
    "        largest = r\n",
    "    if largest != i:\n",
    "        arr[i],arr[largest] = arr[largest],arr[i] # свап replace\n",
    "        heapify(arr, n, largest)\n",
    "\n",
    "\n",
    "def heapSort(arr):\n",
    "    n = len(arr)\n",
    "\n",
    "    # Построение max-heap.(Construire max-heap.)\n",
    "    for i in range(n, -1, -1):\n",
    "        heapify(arr, n, i)\n",
    "\n",
    "    # Один за другим извлекаем элементы(Un par un, nous extrayons les éléments)\n",
    "    for i in range(n-1, 0, -1):\n",
    "        arr[i], arr[0] = arr[0], arr[i] #replace\n",
    "        heapify(arr, i, 0)"
   ]
  },
  {
   "cell_type": "code",
   "execution_count": 26,
   "metadata": {},
   "outputs": [],
   "source": [
    "import random"
   ]
  },
  {
   "cell_type": "code",
   "execution_count": 27,
   "metadata": {},
   "outputs": [
    {
     "name": "stdout",
     "output_type": "stream",
     "text": [
      "Кол-во столбцов: 50\n",
      "Кол-во строк: 50\n",
      "Минимальный элемент: -250\n",
      "Максимальный элемент: 1000\n"
     ]
    }
   ],
   "source": [
    "#Инициализация\n",
    "def random_matrix(m = int(input(\"Кол-во столбцов: \")) , n = int(input(\"Кол-во строк: \")) , min_limit = int(input(\"Минимальный элемент: \")) , max_limit = int(input(\"Максимальный элемент: \")) ):\n",
    "    return [[random.randint(min_limit, max_limit) for row in range(n)] for column in range(m)]\n",
    "    arr = random_matrix(m , max_limit)"
   ]
  },
  {
   "cell_type": "code",
   "execution_count": 29,
   "metadata": {},
   "outputs": [
    {
     "name": "stdout",
     "output_type": "stream",
     "text": [
      "Algorithm                     Time\n",
      "++++++++++++++++++++++++++++++++++++++++++++++++++++++++++++++++++++\n",
      "Встроенная сортирока          0.00015977799999973287\n",
      "Сортировка обменом            0.0003608840000015334\n",
      "Сортировка вставкой           0.0007362680000005639\n",
      "Cортировка Шелла              0.004500201999999263\n",
      "Пирамидальная сортировка      0.01944876000000022\n",
      "Быстрая сортировка            0.0986728519999997\n",
      "Сортировка выбором            0.12977632000000086\n",
      "Турнирная сортировка          1.9214884000000005\n"
     ]
    }
   ],
   "source": [
    "import random\n",
    "import time\n",
    "\n",
    "SORT_FUNCTIONS = {\n",
    "    'Сортировка выбором': selection_sort,\n",
    "    'Сортировка вставкой': insertion_sort,\n",
    "    'Сортировка обменом': bubble_sort,\n",
    "    'Cортировка Шелла': shell_sort,\n",
    "    'Быстрая сортировка': quick_sort,\n",
    "    'Турнирная сортировка': tournamentSort,\n",
    "    'Пирамидальная сортировка': heapSort,\n",
    "    'Встроенная сортирока': sorted\n",
    "}\n",
    "\n",
    "def print_comparison(comparison):\n",
    "    largest_name_len = len(max(comparison.keys(), key=len))\n",
    "    largest_name_len += 6\n",
    "\n",
    "    heading = 'Algorithm'.ljust(largest_name_len) + 'Time'\n",
    "    print(heading)\n",
    "    print('++' * len(heading))\n",
    "    for algo, time_taken in comparison.items():\n",
    "        print(f'{algo:<{largest_name_len}}{time_taken}')\n",
    "\n",
    "time_taken = {}\n",
    "samples = random_matrix(50, 1003)\n",
    "for algo_name, sorter in SORT_FUNCTIONS.items():\n",
    "    samples_copy = samples.copy()\n",
    "    start = time.perf_counter()\n",
    "    for sample in samples_copy:\n",
    "        sorter(sample)\n",
    "    end = time.perf_counter()\n",
    "\n",
    "    time_taken[algo_name] = (end - start) / len(samples)\n",
    "\n",
    "time_taken_sorted = dict(sorted(time_taken.items(), key=lambda kv: kv[1]))\n",
    "print_comparison(time_taken_sorted)"
   ]
  },
  {
   "cell_type": "markdown",
   "metadata": {},
   "source": [
    "### Заданние N_4\n",
    "Создать публичный репозиторий на github, и запушить выполненное задание в .ipynb форматеli. https://github.com/millimono-hub/SIAOD"
   ]
  },
  {
   "cell_type": "code",
   "execution_count": null,
   "metadata": {},
   "outputs": [],
   "source": []
  }
 ],
 "metadata": {
  "kernelspec": {
   "display_name": "Python 3 (ipykernel)",
   "language": "python",
   "name": "python3"
  },
  "language_info": {
   "codemirror_mode": {
    "name": "ipython",
    "version": 3
   },
   "file_extension": ".py",
   "mimetype": "text/x-python",
   "name": "python",
   "nbconvert_exporter": "python",
   "pygments_lexer": "ipython3",
   "version": "3.9.7"
  }
 },
 "nbformat": 4,
 "nbformat_minor": 4
}
