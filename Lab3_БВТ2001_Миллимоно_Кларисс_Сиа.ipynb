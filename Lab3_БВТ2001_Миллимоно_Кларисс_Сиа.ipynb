{
 "cells": [
  {
   "cell_type": "markdown",
   "metadata": {},
   "source": [
    "# Лабораторная работа №3\n",
    "## Выполнил Студентка группы БВТ2001  Миллимоно Кларисс Сиа\n",
    "### Задание №1\n",
    "Реализовать методы поиска подстроки в строке. Добавить возможность\n",
    "ввода строки и подстроки с клавиатуры. Предусмотреть возможность\n",
    "существования пробела. Реализовать возможность выбора опции\n",
    "чувствительности или нечувствительности к регистру. Оценить время работы\n",
    "каждого алгоритма поиска и сравнить его со временем работы стандартной\n",
    "функции поиска, используемой в выбранном языке программирования.\n",
    "программирования.\n",
    "Алгоритмы:\n",
    "1.Кнута-Морриса-Пратта\n",
    "2.Упрощенный Бойера-Мура"
   ]
  },
  {
   "cell_type": "markdown",
   "metadata": {},
   "source": [
    "### Алгоритм Кнута-Морриса-Пратта (КМП)\n",
    "Идея КМП-поиска – при каждом несовпадении двух символов текста и образа образ сдвигается на все пройденное расстояние, так как меньшие сдвиги не могут привести к полному совпадению. Для реализации данного алгоритма, нам необходимо рассмотреть, так называемую, префикс функцию.\n",
    "\n",
    "Префикс-функция - это массив чисел, вычисляющийся, как наибольшая длина суффикса, совпадающего с её префиксом. Как пример, берем каждый возможный префикс строки и смотрим самое длинное совпадение начала с концом префикса (не учитывая тривиальное совпадение самого с собой). Зная длину совпадения префикса с суффиксом по предыдущей букве, мы можем начать поиск сразу с этой позиции (d[j-1]) и продвигаясь вперед либо увеличивать данное значение (суффикс равный префиксу продолжит свой рост), либо обнуляется (нет совпадения)."
   ]
  },
  {
   "cell_type": "code",
   "execution_count": 4,
   "metadata": {},
   "outputs": [],
   "source": [
    "import time\n",
    "start_time = time.monotonic()\n",
    "def predkomp(x):\n",
    "    d = {0:0}\n",
    "    for i in range(1,len(x)):\n",
    "        j = d[i-1]#эту строку мы заменили\n",
    "        while j > 0 and x[j] != x[i]:\n",
    "            j = d[j-1]\n",
    "        if x[j] == x[i]:\n",
    "            j += 1\n",
    "        d[i] = j\n",
    "    return d\n",
    "\n",
    "\n",
    "def kmpSearch(s, x):\n",
    "    d = predkomp(x)\n",
    "    i = j = 0\n",
    "    while i<len(s) and j<len(x):\n",
    "        if x[j] == s[i]:\n",
    "            i+=1\n",
    "            j+=1\n",
    "        elif j==0:\n",
    "            i+=1\n",
    "        else:\n",
    "            j = d[j-1]\n",
    "    else:\n",
    "        if j == len(x):\n",
    "            return \"Нашли. Позиция %d.\" %((i - j) + 1)\n",
    "        return \"Не нашли!\"\n",
    "finish = time.time()\n",
    "temp1= time.monotonic() - start_time"
   ]
  },
  {
   "cell_type": "markdown",
   "metadata": {},
   "source": [
    "### Алгоритм Бойера - Мура\n",
    "Основная идея алгоритм - начать поиск не с начала, а с конца подстроки.\n",
    "Наткнувшись на несовпадение, мы просто смещаем подстроку до самого правого вхождения данного символа."
   ]
  },
  {
   "cell_type": "code",
   "execution_count": 5,
   "metadata": {},
   "outputs": [],
   "source": [
    "import time\n",
    "start_time = time.monotonic()\n",
    "def forming_d(pattern):\n",
    "    \"\"\" Формируем массив d.\"\"\"\n",
    "    d = [len(pattern) for i in range(1105)]\n",
    "    new_p = pattern[::-1]\n",
    " \n",
    "    for i in range(len(new_p)):\n",
    "        if d[ord(new_p[i])] != len(new_p):\n",
    "            continue\n",
    "        else:\n",
    "            d[ord(new_p[i])] = i\n",
    "    return d\n",
    " \n",
    "def search(string, pattern):\n",
    "    \"\"\" Поиск Бойера - Мура.\"\"\"\n",
    " \n",
    "    d = forming_d(pattern)\n",
    "    # x - начало прохода по string\n",
    "    # j - проход по pattern\n",
    "    # k - проход по string\n",
    "    len_p = x = j = k = len(pattern)\n",
    "    # число смещений\n",
    "    counter = 0\n",
    " \n",
    "    while x <= len(string) and j > 0:\n",
    "        if pattern[j - 1] == string[k - 1]:\n",
    "            j -= 1\n",
    "            k -= 1\n",
    "        else:\n",
    "            x += d[ord(string[k - 1])]\n",
    "            k = x\n",
    "            j = len_p\n",
    "            counter += 1\n",
    " \n",
    "    if j <= 0:\n",
    "        return \"Нашли. Позиция %d.\" % (k + 1)\n",
    "    else:\n",
    "        return \"Не нашли!\"\n",
    "finish = time.time()\n",
    "temp2= time.monotonic() - start_time    "
   ]
  },
  {
   "cell_type": "markdown",
   "metadata": {},
   "source": [
    "\n",
    "### Встроенная функция поиска"
   ]
  },
  {
   "cell_type": "code",
   "execution_count": 6,
   "metadata": {},
   "outputs": [],
   "source": [
    "import time\n",
    "start_time = time.monotonic()\n",
    "def poisk(string2, pattern2):\n",
    "    if string2.find(pattern2) != -1:\n",
    "        return \"Нашли. Позиция %d.\" %(string2.find(pattern2) + 1)\n",
    "    else:\n",
    "        return \"Не нашли!\"\n",
    "finish = time.time()\n",
    "temp3= time.monotonic() - start_time       "
   ]
  },
  {
   "cell_type": "markdown",
   "metadata": {},
   "source": [
    "### Основной блок программы"
   ]
  },
  {
   "cell_type": "code",
   "execution_count": 17,
   "metadata": {},
   "outputs": [
    {
     "name": "stdout",
     "output_type": "stream",
     "text": [
      "Введите строку: je suis revenu hier de paris\n",
      "Введите подстроку: venu\n",
      "\n",
      "Нашли. Позиция 11.\n",
      "прошло :  0.0003710230002980097 s\n",
      "\n",
      "Нашли. Позиция 11.\n",
      "прошло :  0.0007568480004920275 s\n",
      "\n",
      "Нашли. Позиция 11.\n",
      "прошло :  0.00017505300002085278 s\n"
     ]
    }
   ],
   "source": [
    "string2 = string1 = string = input(\"Введите строку: \")\n",
    "pattern2 = pattern1 = pattern = input(\"Введите подстроку: \")\n",
    "print(\"\")\n",
    "print(search(string, pattern))\n",
    "print (f'прошло : ' , temp1 , 's')\n",
    "\n",
    "print(\"\")\n",
    "print(kmpSearch(string1, pattern1))\n",
    "print (f'прошло : ' , temp2 , 's')\n",
    "\n",
    "print(\"\")\n",
    "print(poisk(string2, pattern2))\n",
    "print (f'прошло : ' , temp3 , 's')"
   ]
  }
 ],
 "metadata": {
  "kernelspec": {
   "display_name": "Python 3 (ipykernel)",
   "language": "python",
   "name": "python3"
  },
  "language_info": {
   "codemirror_mode": {
    "name": "ipython",
    "version": 3
   },
   "file_extension": ".py",
   "mimetype": "text/x-python",
   "name": "python",
   "nbconvert_exporter": "python",
   "pygments_lexer": "ipython3",
   "version": "3.10.2"
  }
 },
 "nbformat": 4,
 "nbformat_minor": 4
}
