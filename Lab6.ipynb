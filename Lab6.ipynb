{
 "cells": [
  {
   "cell_type": "markdown",
   "metadata": {
    "id": "0z3KlfKDn4_K"
   },
   "source": [
    "# Лабораторная работа 6. \n",
    "# Сетевые алгоритмы. Динамические алгоритмы поиска путей.\n"
   ]
  },
  {
   "cell_type": "markdown",
   "metadata": {
    "id": "96Gi_LEvmSVH"
   },
   "source": [
    "# Выполнил студент группы БВТ2001 Миллимоно Кларисс Сиа\n",
    "***"
   ]
  },
  {
   "cell_type": "markdown",
   "metadata": {
    "id": "GjdIp8aToKIe"
   },
   "source": [
    "### Задание\n",
    "\n",
    "1.  Реализовать алгоритм поиска кратчайшего расстояния между двумя вершинами ориентированного взвешенного графа в соответствии с вариантом. \n",
    "\n",
    "2.  Предусмотреть задание графа в виде матрицы смежности/инцидентности, читаемой из файла, либо графически с помощью пользовательского интерфейса. \n",
    "\n",
    "3.  Разработать графический интерфейс пользователя с визуализацией графа и отображением кратчайшего расстояния между задаваемыми пользователем вершинами.\n",
    "\n",
    "4. По результатам работы проанализировать временную сложность работы заданного алгоритма в зависимости от числа узлов и ребер графа.\n",
    "Данные представить в виде таблицы.\n",
    "\n"
   ]
  },
  {
   "cell_type": "markdown",
   "metadata": {
    "id": "LhhUXrAmotIA"
   },
   "source": [
    "### Алгоритмы:\n",
    "\n",
    "Алгоритм Флойда-Уоршелла| Алгоритм Дейкстры | Алгоритм Беллмана-Форда | Алгоритм Джонсона| Алгоритм Левита | Алгоритм Йена\n",
    "\n"
   ]
  },
  {
   "cell_type": "markdown",
   "metadata": {},
   "source": [
    "### Алгоритм Флойда-Уоршелла"
   ]
  },
  {
   "cell_type": "code",
   "execution_count": 1,
   "metadata": {},
   "outputs": [
    {
     "name": "stdout",
     "output_type": "stream",
     "text": [
      "{1, 2, 3, 4, 5, 6, 7, 8, 9}\n"
     ]
    }
   ],
   "source": [
    "# Смежность вершин\n",
    "inc = {\n",
    "    1: [2, 8],\n",
    "    2: [1, 3, 8],\n",
    "    3: [2, 4, 8],\n",
    "    4: [3, 7, 9],\n",
    "    5: [6, 7],\n",
    "    6: [5],\n",
    "    7: [4, 5, 8],\n",
    "    8: [1, 2, 3, 7],\n",
    "    9: [4],\n",
    "}\n",
    "\n",
    "visited = set()  # Посещена ли вершина?\n",
    "\n",
    "\n",
    "# Поиск в глубину - ПВГ (Depth First Search - DFS)\n",
    "def dfs(v):\n",
    "    if v in visited:  # Если вершина уже посещена, выходим\n",
    "        return\n",
    "    visited.add(v)  # Посетили вершину v\n",
    "    for i in inc[v]:  # Все смежные с v вершины\n",
    "        if not i in visited:\n",
    "            dfs(i)\n",
    "\n",
    "\n",
    "start = 1\n",
    "dfs(start)  # start - начальная вершина обхода\n",
    "print(visited)"
   ]
  },
  {
   "cell_type": "markdown",
   "metadata": {
    "id": "Wggfn8l7nG72"
   },
   "source": [
    "### Выполнение:"
   ]
  },
  {
   "cell_type": "code",
   "execution_count": null,
   "metadata": {
    "id": "681a95mZnOSa"
   },
   "outputs": [],
   "source": []
  },
  {
   "cell_type": "markdown",
   "metadata": {
    "id": "diOb-K7LnO5a"
   },
   "source": [
    "### Вывод"
   ]
  }
 ],
 "metadata": {
  "colab": {
   "name": "Lab6.ipynb",
   "provenance": []
  },
  "kernelspec": {
   "display_name": "Python 3 (ipykernel)",
   "language": "python",
   "name": "python3"
  },
  "language_info": {
   "codemirror_mode": {
    "name": "ipython",
    "version": 3
   },
   "file_extension": ".py",
   "mimetype": "text/x-python",
   "name": "python",
   "nbconvert_exporter": "python",
   "pygments_lexer": "ipython3",
   "version": "3.10.2"
  }
 },
 "nbformat": 4,
 "nbformat_minor": 1
}
